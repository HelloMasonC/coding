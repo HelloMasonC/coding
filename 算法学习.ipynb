{
 "cells": [
  {
   "cell_type": "markdown",
   "metadata": {
    "toc-hr-collapsed": false
   },
   "source": [
    "# 算法学习"
   ]
  },
  {
   "cell_type": "markdown",
   "metadata": {
    "toc-hr-collapsed": true
   },
   "source": [
    "## 学习算法和刷题的框架思维\n",
    "\n",
    "数据结构的存储方式只有两种：数组（顺序存储）和链表（链式存储）。不管散列表、栈、队列、堆、树、图等等各种数据结构，都属于「上层建筑」，而数组和链表才是「结构基础」。因为那些多样化的数据结构，究其源头，都是在链表或者数组上的特殊操作，API不同而已。我们分析问题，一定要有递归的思想，自顶向下，从抽象到具体。"
   ]
  },
  {
   "cell_type": "markdown",
   "metadata": {},
   "source": [
    "对于任何数据结构，其基本操作无非遍历 + 访问，再具体一点就是：增删查改。数据结构种类很多，但它们存在的目的都是在不同的应用场景，尽可能高效地增删查改。\n",
    "各种数据结构的遍历 + 访问无非两种形式：线性的和非线性的。\n",
    "线性就是 for/while 迭代为代表，非线性就是递归为代表。"
   ]
  },
  {
   "cell_type": "code",
   "execution_count": null,
   "metadata": {},
   "outputs": [],
   "source": [
    "再具体一步，无非以下几种框架：\n",
    "①数组遍历框架，典型的线性迭代结构："
   ]
  },
  {
   "cell_type": "code",
   "execution_count": 12,
   "metadata": {},
   "outputs": [],
   "source": [
    "def traverse(arr):\n",
    "    for i in range(len(arr)):\n",
    "        print(arr[i]) # 迭代访问 arr[i]"
   ]
  },
  {
   "cell_type": "code",
   "execution_count": null,
   "metadata": {},
   "outputs": [],
   "source": [
    "②链表遍历框架，兼具迭代和递归结构："
   ]
  },
  {
   "cell_type": "code",
   "execution_count": 14,
   "metadata": {},
   "outputs": [],
   "source": [
    "# 基本的单链表节点\n",
    "class ListNode:\n",
    "    def __init__(self, x):\n",
    "        self.val = x\n",
    "        self.next = null\n",
    "\n",
    "\n",
    "    def traverse_iterative(self, head):\n",
    "        while(head != null):\n",
    "            print(head.val)  # 迭代访问 head.val\n",
    "            head = head.next\n",
    "\n",
    "\n",
    "    def traverse_recursive(self, head):\n",
    "        traverse(head.next)  # 递归访问 head.val      "
   ]
  },
  {
   "cell_type": "code",
   "execution_count": null,
   "metadata": {},
   "outputs": [],
   "source": [
    "③二叉树遍历框架，典型的非线性递归遍历结构："
   ]
  },
  {
   "cell_type": "code",
   "execution_count": null,
   "metadata": {},
   "outputs": [],
   "source": [
    "# 基本的二叉树节点\n",
    "class TreeNode:\n",
    "    def __init__(self, x):\n",
    "        self.val = x\n",
    "        self.left = null\n",
    "        self.right = null\n",
    "\n",
    "\n",
    "    def traverse(self, root):\n",
    "        traverse(root.left)\n",
    "        traverse(root.right)"
   ]
  },
  {
   "cell_type": "markdown",
   "metadata": {},
   "source": [
    "④二叉树框架可以扩展为 N 叉树的遍历框架："
   ]
  },
  {
   "cell_type": "code",
   "execution_count": 15,
   "metadata": {},
   "outputs": [],
   "source": [
    "# 基本的 N 叉树节点\n",
    "class TreeNode:\n",
    "    def __init__(self, x):\n",
    "        self.val = x\n",
    "        self.children = null\n",
    "\n",
    "\n",
    "    def traverse(root):\n",
    "        for child in root.children:\n",
    "            traverse(child)"
   ]
  },
  {
   "cell_type": "markdown",
   "metadata": {},
   "source": [
    "N 叉树的遍历又可以扩展为图的遍历，因为图就是好几 N 叉棵树的结合体。你说图是可能出现环的？这个很好办，用个布尔数组 visited 做标记就行了，这里就不写代码了。\n",
    "所谓框架，就是套路。不管增删查改，这些代码都是永远无法脱离的结构，你可以把这个结构作为大纲，根据具体问题在框架上添加代码就行了，下面会具体举例。"
   ]
  },
  {
   "cell_type": "markdown",
   "metadata": {},
   "source": [
    "二叉树是最容易培养框架思维的，而且大部分算法技巧，本质上都是树的遍历问题。不要小看这几行破代码，几乎所有二叉树的题目都是一套这个框架就出来了。你就会发现只要涉及递归的问题，都是树的问题。"
   ]
  },
  {
   "cell_type": "code",
   "execution_count": null,
   "metadata": {},
   "outputs": [],
   "source": [
    "def traverse(root):\n",
    "    # 前序遍历\n",
    "    traverse(root.left)\n",
    "    # 中序遍历\n",
    "    traverse(root.right)\n",
    "    # 后序遍历"
   ]
  },
  {
   "cell_type": "markdown",
   "metadata": {
    "toc-hr-collapsed": true
   },
   "source": [
    "## 例题1-二叉树的中序、前序、后序、层序遍历"
   ]
  },
  {
   "cell_type": "code",
   "execution_count": 18,
   "metadata": {},
   "outputs": [],
   "source": [
    "# https://www.cnblogs.com/bjwu/p/9284534.html\n",
    "class TreeNode:\n",
    "    def __init__(self, val=0, left=None, right=None):\n",
    "        self.val = val\n",
    "        self.left = left\n",
    "        self.right = right\n",
    "        \n",
    "class Solution:\n",
    "    # 中序遍历\n",
    "    def inorderTraversal(self, root):\n",
    "        if not root:\n",
    "            return []\n",
    "        return self.inorderTraversal(root.left) + [root.val] + self.inorderTraversal(root.right)\n",
    "    # 前序遍历\n",
    "    def preorderTraversal(self, root):\n",
    "        if not root:\n",
    "            return []\n",
    "        return [root.val] + self.inorderTraversal(root.left) + self.inorderTraversal(root.right)\n",
    "    # 后序遍历\n",
    "    def preorderTraversal(self, root):\n",
    "        if not root:\n",
    "            return []\n",
    "        return self.inorderTraversal(root.left) + self.inorderTraversal(root.right) + [root.val]\n",
    "    # 层序遍历（宽度优先遍历）\n",
    "\n",
    "    # 深度遍历\n",
    "    "
   ]
  },
  {
   "cell_type": "code",
   "execution_count": null,
   "metadata": {},
   "outputs": [],
   "source": []
  },
  {
   "cell_type": "markdown",
   "metadata": {
    "toc-hr-collapsed": true
   },
   "source": [
    "## 例题2-LeetCode 124 题，难度 Hard，让你求二叉树中最大路径和"
   ]
  },
  {
   "cell_type": "markdown",
   "metadata": {},
   "source": [
    "## 例题3-LeetCode 105 题，难度 Medium，让你根据前序遍历和中序遍历的结果还原一棵二叉树"
   ]
  },
  {
   "cell_type": "markdown",
   "metadata": {},
   "source": [
    "## 例题4-LeetCode 99 题，难度 Hard，恢复一棵 BST"
   ]
  },
  {
   "cell_type": "markdown",
   "metadata": {},
   "source": [
    "综上，对于畏惧算法的朋友来说，可以先刷树的相关题目，试着从框架上看问题，而不要纠结于细节问题。\n",
    "数据结构的基本存储方式就是链式和顺序两种，基本操作就是增删查改，遍历方式无非迭代和递归。\n",
    "刷算法题建议从「树」分类开始刷，结合框架思维，把这几十道题刷完，对于树结构的理解应该就到位了。这时候去看回溯、动规、分治等算法专题，对思路的理解可能会更加深刻一些。"
   ]
  },
  {
   "cell_type": "markdown",
   "metadata": {},
   "source": [
    "# 学习资料\n",
    "- https://labuladong.gitbook.io/algo/"
   ]
  },
  {
   "cell_type": "code",
   "execution_count": null,
   "metadata": {},
   "outputs": [],
   "source": []
  }
 ],
 "metadata": {
  "kernelspec": {
   "display_name": "Python 3",
   "language": "python",
   "name": "python3"
  },
  "language_info": {
   "codemirror_mode": {
    "name": "ipython",
    "version": 3
   },
   "file_extension": ".py",
   "mimetype": "text/x-python",
   "name": "python",
   "nbconvert_exporter": "python",
   "pygments_lexer": "ipython3",
   "version": "3.7.0"
  }
 },
 "nbformat": 4,
 "nbformat_minor": 2
}
